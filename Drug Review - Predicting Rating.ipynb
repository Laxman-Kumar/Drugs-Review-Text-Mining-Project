{
 "cells": [
  {
   "cell_type": "markdown",
   "metadata": {},
   "source": [
    "### This notebook is used to solve the regression probelm of our dataset. The problem statement focuses on predicting the 10 scale rating score using the rest of the attributes\n",
    "\n",
    "### We will buliding traditional machine learning model as well as state of the art neural network"
   ]
  },
  {
   "cell_type": "markdown",
   "metadata": {},
   "source": [
    "<h3>Student Name : Laxman Kumar <br> Subject Name : IST 736 Text Mining <br> University : Syracuse University <br> Professor : Prof Yingya Li</h3>"
   ]
  },
  {
   "cell_type": "markdown",
   "metadata": {},
   "source": [
    "#### Resouces used are https://www.kaggle.com/jessicali9530/kuc-hackathon-winter-2018"
   ]
  },
  {
   "cell_type": "markdown",
   "metadata": {},
   "source": [
    "# Building Traditional Machine Learning model"
   ]
  },
  {
   "cell_type": "code",
   "execution_count": 29,
   "metadata": {},
   "outputs": [],
   "source": [
    "import pandas as pd\n",
    "from datetime import datetime\n",
    "import seaborn as sns\n",
    "import numpy as np\n",
    "import matplotlib.pyplot as plt\n",
    "\n",
    "import re\n",
    "from sklearn.feature_extraction.text import CountVectorizer,TfidfVectorizer\n",
    "from sklearn import metrics\n",
    "from nltk.stem.porter import PorterStemmer\n",
    "from nltk.tokenize import word_tokenize\n",
    "from nltk.stem import WordNetLemmatizer\n",
    "from sklearn.naive_bayes import MultinomialNB,BernoulliNB\n",
    "from sklearn.svm import LinearSVC,SVC,SVR\n",
    "from sklearn.metrics import accuracy_score\n",
    "from sklearn.metrics import classification_report,confusion_matrix\n",
    "from sklearn.model_selection import train_test_split\n",
    "from nltk.corpus import stopwords\n",
    "from sklearn.linear_model import LinearRegression\n",
    "from sklearn.pipeline import Pipeline\n",
    "from time import time\n",
    "\n",
    "import nltk\n",
    "%matplotlib inline"
   ]
  },
  {
   "cell_type": "markdown",
   "metadata": {},
   "source": [
    "## Loading the cleaned data"
   ]
  },
  {
   "cell_type": "code",
   "execution_count": 2,
   "metadata": {},
   "outputs": [],
   "source": [
    "df = pd.read_csv(\"cleaned.csv\")"
   ]
  },
  {
   "cell_type": "markdown",
   "metadata": {},
   "source": [
    "### Customized function for confusion matrix"
   ]
  },
  {
   "cell_type": "code",
   "execution_count": 3,
   "metadata": {},
   "outputs": [],
   "source": [
    "def plot_confusion_matrix(cm,target_names,title='Confusion matrix',cmap=None,normalize=True):\n",
    "    import matplotlib.pyplot as plt\n",
    "    import numpy as np\n",
    "    import itertools\n",
    "\n",
    "    accuracy = np.trace(cm) / float(np.sum(cm))\n",
    "    misclass = 1 - accuracy\n",
    "\n",
    "    if cmap is None:\n",
    "        cmap = plt.get_cmap('Blues')\n",
    "\n",
    "    plt.figure(figsize=(10, 10))\n",
    "    plt.imshow(cm, interpolation='nearest', cmap=cmap)\n",
    "    plt.title(title)\n",
    "    plt.colorbar()\n",
    "\n",
    "    if target_names is not None:\n",
    "        tick_marks = np.arange(len(target_names))\n",
    "        plt.xticks(tick_marks, target_names, rotation=45)\n",
    "        plt.yticks(tick_marks, target_names)\n",
    "    if normalize:\n",
    "        cm = cm.astype('float') / cm.sum(axis=1)[:, np.newaxis]\n",
    "\n",
    "\n",
    "    thresh = cm.max() / 1.5 if normalize else cm.max() / 2\n",
    "    for i, j in itertools.product(range(cm.shape[0]), range(cm.shape[1])):\n",
    "        if normalize:\n",
    "            plt.text(j, i, \"{:0.4f}\".format(cm[i, j]),\n",
    "                     horizontalalignment=\"center\",\n",
    "                     color=\"white\" if cm[i, j] > thresh else \"black\")\n",
    "        else:\n",
    "            plt.text(j, i, \"{:,}\".format(cm[i, j]),\n",
    "                     horizontalalignment=\"center\",\n",
    "                     color=\"white\" if cm[i, j] > thresh else \"black\")\n",
    "\n",
    "\n",
    "    plt.tight_layout()\n",
    "    plt.ylabel('True label')\n",
    "    plt.xlabel('Predicted label\\naccuracy={:0.4f}; misclass={:0.4f}'.format(accuracy, misclass))\n",
    "    plt.show()"
   ]
  },
  {
   "cell_type": "markdown",
   "metadata": {},
   "source": [
    "## Splitting the data into train, test and validation"
   ]
  },
  {
   "cell_type": "code",
   "execution_count": 4,
   "metadata": {},
   "outputs": [],
   "source": [
    "X_train, X_test, y_train, y_test = train_test_split(df['review'], df['rating'], test_size=0.2, random_state=0)"
   ]
  },
  {
   "cell_type": "markdown",
   "metadata": {},
   "source": [
    "## Initialising the vectorizer."
   ]
  },
  {
   "cell_type": "code",
   "execution_count": 5,
   "metadata": {},
   "outputs": [],
   "source": [
    "stop_words = set(stopwords.words('english'))"
   ]
  },
  {
   "cell_type": "code",
   "execution_count": 6,
   "metadata": {},
   "outputs": [],
   "source": [
    "countVectorizer = CountVectorizer(binary=False, min_df = 20, stop_words = stop_words, analyzer = 'word',ngram_range=(1,2))\n",
    "countVector_train = countVectorizer.fit_transform(X_train)\n",
    "countVector_val = countVectorizer.transform(X_test)"
   ]
  },
  {
   "cell_type": "code",
   "execution_count": 7,
   "metadata": {},
   "outputs": [],
   "source": [
    "tfidfVectorizer = TfidfVectorizer(min_df = 20, stop_words = stop_words, analyzer = 'word',ngram_range=(1,2))\n",
    "tfidfVector_train = tfidfVectorizer.fit_transform(X_train)\n",
    "tfidfVector_train = tfidfVectorizer.transform(X_test)"
   ]
  },
  {
   "cell_type": "markdown",
   "metadata": {},
   "source": [
    "## Building and comparing different models"
   ]
  },
  {
   "cell_type": "markdown",
   "metadata": {},
   "source": [
    "### Customized function for calculating the accuracy of a model"
   ]
  },
  {
   "cell_type": "code",
   "execution_count": 8,
   "metadata": {},
   "outputs": [],
   "source": [
    "def accuracy_summary(pipeline, x_train, y_train, x_test, y_test):\n",
    "    if len(x_test[y_test == 0]) / (len(x_test)*1.) > 0.5:\n",
    "        null_accuracy = len(x_test[y_test == 0]) / (len(x_test)*1.)\n",
    "    else:\n",
    "        null_accuracy = 1. - (len(x_test[y_test == 0]) / (len(x_test)*1.))\n",
    "    t0 = time()\n",
    "    sentiment_fit = pipeline.fit(x_train, y_train)\n",
    "    y_pred = sentiment_fit.predict(x_test)\n",
    "    train_test_time = time() - t0\n",
    "    accuracy = accuracy_score(y_test, y_pred)\n",
    "    print(\"null accuracy: {0:.2f}%\".format(null_accuracy*100))\n",
    "    print(\"accuracy score: {0:.2f}%\".format(accuracy*100))\n",
    "    if accuracy > null_accuracy:\n",
    "        print(\"model is {0:.2f}% more accurate than null accuracy\".format((accuracy-null_accuracy)*100))\n",
    "    elif accuracy == null_accuracy:\n",
    "        print(\"model has the same accuracy with the null accuracy\")\n",
    "    else:\n",
    "        print(\"model is {0:.2f}% less accurate than null accuracy\".format((null_accuracy-accuracy)*100))\n",
    "    print(\"train and test time: {0:.2f}s\".format(train_test_time))\n",
    "    print(\"-\"*80)\n",
    "    return accuracy, train_test_time"
   ]
  },
  {
   "cell_type": "markdown",
   "metadata": {},
   "source": [
    "### Function for generating report and important features"
   ]
  },
  {
   "cell_type": "code",
   "execution_count": 9,
   "metadata": {},
   "outputs": [],
   "source": [
    "def GenerateReport(Ytest,y_pred,labels):\n",
    "    print(\"--------CONFUSION MATRIX-----------\")\n",
    "    print(confusion_matrix(Ytest, y_pred, labels=labels))\n",
    "    print()\n",
    "    print(\"---------EVALUATION REPORT----------\")\n",
    "    print(classification_report(Ytest, y_pred))\n",
    "\n",
    "def show_most_and_least_informative_features(vectorizer, clf, class_idx=0, n=10):\n",
    "    feature_names = vectorizer.get_feature_names()\n",
    "    coefs_with_fns = sorted(zip(clf.coef_[class_idx], feature_names))\n",
    "    top = zip(coefs_with_fns[:n], coefs_with_fns[-n:])\n",
    "    \n",
    "    for (coef_1, fn_1), (coef_2, fn_2) in top:\n",
    "        print(\"\\t%.4f\\t%-15s\\t\\t%.4f\\t%-15s\" % (coef_2, fn_2, coef_1, fn_1))"
   ]
  },
  {
   "cell_type": "markdown",
   "metadata": {},
   "source": [
    "### Generating report for three models with their default hyperparameters"
   ]
  },
  {
   "cell_type": "code",
   "execution_count": 12,
   "metadata": {},
   "outputs": [
    {
     "name": "stdout",
     "output_type": "stream",
     "text": [
      "Validation result for Linear SVC\n",
      "null accuracy: 100.00%\n",
      "accuracy score: 67.77%\n",
      "model is 32.23% less accurate than null accuracy\n",
      "train and test time: 1789.11s\n",
      "--------------------------------------------------------------------------------\n",
      "Validation result for Multinomial NB\n",
      "null accuracy: 100.00%\n",
      "accuracy score: 52.60%\n",
      "model is 47.40% less accurate than null accuracy\n",
      "train and test time: 105.12s\n",
      "--------------------------------------------------------------------------------\n",
      "Validation result for Bernoulli NB\n",
      "null accuracy: 100.00%\n",
      "accuracy score: 38.70%\n",
      "model is 61.30% less accurate than null accuracy\n",
      "train and test time: 101.95s\n",
      "--------------------------------------------------------------------------------\n"
     ]
    }
   ],
   "source": [
    "names = [\"Linear SVC\", \"Multinomial NB\", \"Bernoulli NB\"]\n",
    "classifiers = [LinearSVC(),MultinomialNB(),BernoulliNB()]\n",
    "\n",
    "zipped_clf = zip(names,classifiers)\n",
    "\n",
    "tvec = TfidfVectorizer()\n",
    "tvec1 = CountVectorizer()\n",
    "def classifier_comparator(vectorizer=tvec1,  stop_words=None, ngram_range=(1, 1), classifier=zipped_clf):\n",
    "    result = []\n",
    "    vectorizer.set_params(stop_words=stop_words, ngram_range=ngram_range)\n",
    "    for n,c in classifier:\n",
    "        checker_pipeline = Pipeline([('vectorizer', vectorizer),('classifier', c)])\n",
    "        print(\"Validation result for {}\".format(n))\n",
    "        clf_accuracy,tt_time = accuracy_summary(checker_pipeline, X_train, y_train, X_test, y_test)\n",
    "        result.append((n,clf_accuracy,tt_time))\n",
    "        #print(show_most_and_least_informative_features(tvec1,nb))\n",
    "    return result\n",
    "\n",
    "#trigram_result = classifier_comparator(ngram_range=(1,1))\n",
    "#trigram_result = classifier_comparator(ngram_range=(1,2))\n",
    "trigram_result = classifier_comparator(ngram_range=(1,3))"
   ]
  },
  {
   "cell_type": "markdown",
   "metadata": {},
   "source": [
    "After running several combination of vectorizer and ngram range Count vectorizer with ngram range of 1-3 gives the best result."
   ]
  },
  {
   "cell_type": "markdown",
   "metadata": {},
   "source": [
    "### Running the best model with different combination of hyperparameters"
   ]
  },
  {
   "cell_type": "code",
   "execution_count": 13,
   "metadata": {},
   "outputs": [],
   "source": [
    "countVectorizer = CountVectorizer(binary=False,  stop_words = stop_words, analyzer = 'word',ngram_range=(1,3))\n",
    "countVector_train = countVectorizer.fit_transform(X_train)\n",
    "countVector_val = countVectorizer.transform(X_test)"
   ]
  },
  {
   "cell_type": "markdown",
   "metadata": {},
   "source": [
    "### Multinomial Best and least features"
   ]
  },
  {
   "cell_type": "code",
   "execution_count": 14,
   "metadata": {},
   "outputs": [
    {
     "data": {
      "text/plain": [
       "0.5851120850017341"
      ]
     },
     "execution_count": 14,
     "metadata": {},
     "output_type": "execute_result"
    }
   ],
   "source": [
    "mnb = MultinomialNB()\n",
    "mnb.fit(countVector_train, y_train)\n",
    "y_pred_class = mnb.predict(countVector_val)\n",
    "\n",
    "metrics.accuracy_score(y_test, y_pred_class)"
   ]
  },
  {
   "cell_type": "code",
   "execution_count": 15,
   "metadata": {},
   "outputs": [
    {
     "name": "stdout",
     "output_type": "stream",
     "text": [
      "\t-7.3887\tget            \t\t-15.6805\t00 00 06       \n",
      "\t-7.3829\tside           \t\t-15.6805\t00 00 afternoon\n",
      "\t-7.3494\ttook           \t\t-15.6805\t00 00 break    \n",
      "\t-7.3395\tstarted        \t\t-15.6805\t00 00 exhausted\n",
      "\t-7.3272\tmonths         \t\t-15.6805\t00 00 getting  \n",
      "\t-7.2977\tdays           \t\t-15.6805\t00 00 past     \n",
      "\t-7.2127\tlike           \t\t-15.6805\t00 00 reason   \n",
      "\t-7.1124\tpain           \t\t-15.6805\t00 00 rest     \n",
      "\t-7.0895\ttaking         \t\t-15.6805\t00 00 side     \n",
      "\t-7.0611\tday            \t\t-15.6805\t00 00 starting \n"
     ]
    }
   ],
   "source": [
    "show_most_and_least_informative_features(countVectorizer,mnb)"
   ]
  },
  {
   "cell_type": "markdown",
   "metadata": {},
   "source": [
    "### BernoulliNB Best and least features"
   ]
  },
  {
   "cell_type": "code",
   "execution_count": 16,
   "metadata": {},
   "outputs": [
    {
     "data": {
      "text/plain": [
       "0.3624239366901031"
      ]
     },
     "execution_count": 16,
     "metadata": {},
     "output_type": "execute_result"
    }
   ],
   "source": [
    "bnb = BernoulliNB()\n",
    "bnb.fit(countVector_train, y_train)\n",
    "y_pred_class = bnb.predict(countVector_val)\n",
    "metrics.accuracy_score(y_test, y_pred_class)"
   ]
  },
  {
   "cell_type": "code",
   "execution_count": 17,
   "metadata": {},
   "outputs": [
    {
     "name": "stdout",
     "output_type": "stream",
     "text": [
      "\t-1.6544\tside           \t\t-9.7500\t00 00 06       \n",
      "\t-1.6535\tstarted        \t\t-9.7500\t00 00 afternoon\n",
      "\t-1.6481\tpain           \t\t-9.7500\t00 00 break    \n",
      "\t-1.6357\tmonths         \t\t-9.7500\t00 00 exhausted\n",
      "\t-1.6330\tnever          \t\t-9.7500\t00 00 getting  \n",
      "\t-1.6039\tdays           \t\t-9.7500\t00 00 past     \n",
      "\t-1.5841\ttook           \t\t-9.7500\t00 00 reason   \n",
      "\t-1.5023\tlike           \t\t-9.7500\t00 00 rest     \n",
      "\t-1.4757\tday            \t\t-9.7500\t00 00 side     \n",
      "\t-1.4072\ttaking         \t\t-9.7500\t00 00 starting \n"
     ]
    }
   ],
   "source": [
    "show_most_and_least_informative_features(countVectorizer,bnb)"
   ]
  },
  {
   "cell_type": "markdown",
   "metadata": {},
   "source": [
    "### Linear SVM"
   ]
  },
  {
   "cell_type": "code",
   "execution_count": 18,
   "metadata": {},
   "outputs": [
    {
     "name": "stderr",
     "output_type": "stream",
     "text": [
      "C:\\Users\\laxma\\.conda\\envs\\Python\\lib\\site-packages\\sklearn\\svm\\_base.py:947: ConvergenceWarning: Liblinear failed to converge, increase the number of iterations.\n",
      "  \"the number of iterations.\", ConvergenceWarning)\n"
     ]
    },
    {
     "data": {
      "text/plain": [
       "0.6702084055869092"
      ]
     },
     "execution_count": 18,
     "metadata": {},
     "output_type": "execute_result"
    }
   ],
   "source": [
    "nb = LinearSVC(C=1.5,max_iter=1500)\n",
    "nb.fit(countVector_train, y_train)\n",
    "y_pred_class = nb.predict(countVector_val)\n",
    "metrics.accuracy_score(y_test, y_pred_class)"
   ]
  },
  {
   "cell_type": "code",
   "execution_count": 19,
   "metadata": {},
   "outputs": [
    {
     "name": "stdout",
     "output_type": "stream",
     "text": [
      "\t1.0209\tpositive effect\t\t-1.0931\twork well      \n",
      "\t1.0598\tinsomnia nausea\t\t-0.9968\twork insomnia  \n",
      "\t1.0654\tanaphylaxis    \t\t-0.9613\tworked first time\n",
      "\t1.0796\theartbroken    \t\t-0.9281\twork night     \n",
      "\t1.0884\tworl           \t\t-0.8822\tgeneric work   \n",
      "\t1.1042\tsickening      \t\t-0.8347\tdidnt work     \n",
      "\t1.1232\tmuch allergies \t\t-0.8011\twork chronic pain\n",
      "\t1.2095\tworked first   \t\t-0.7066\tbad stomach upset\n",
      "\t1.3191\tbad best       \t\t-0.6950\twork good      \n",
      "\t1.3652\tgood enough    \t\t-0.6859\ttaken wide     \n"
     ]
    }
   ],
   "source": [
    "show_most_and_least_informative_features(countVectorizer,nb)"
   ]
  },
  {
   "cell_type": "code",
   "execution_count": 20,
   "metadata": {},
   "outputs": [],
   "source": [
    "labels=['1','2','3','4','5','6','7','8','9','10']"
   ]
  },
  {
   "cell_type": "code",
   "execution_count": 21,
   "metadata": {},
   "outputs": [
    {
     "name": "stdout",
     "output_type": "stream",
     "text": [
      "              precision    recall  f1-score   support\n",
      "\n",
      "           1       0.67      0.82      0.73      4120\n",
      "           2       0.68      0.51      0.58      1371\n",
      "           3       0.64      0.51      0.57      1319\n",
      "           4       0.69      0.52      0.59       983\n",
      "           5       0.66      0.52      0.58      1599\n",
      "           6       0.62      0.51      0.56      1231\n",
      "           7       0.65      0.52      0.58      1818\n",
      "           8       0.61      0.55      0.58      3757\n",
      "           9       0.63      0.60      0.61      5473\n",
      "          10       0.72      0.82      0.77     10046\n",
      "\n",
      "    accuracy                           0.67     31717\n",
      "   macro avg       0.66      0.59      0.62     31717\n",
      "weighted avg       0.67      0.67      0.66     31717\n",
      "\n"
     ]
    }
   ],
   "source": [
    "print(classification_report(y_test, y_pred_class))"
   ]
  },
  {
   "cell_type": "code",
   "execution_count": 25,
   "metadata": {},
   "outputs": [
    {
     "data": {
      "image/png": "[encoded data removed]",
      "text/plain": [
       "<Figure size 720x720 with 2 Axes>"
      ]
     },
     "metadata": {
      "needs_background": "light"
     },
     "output_type": "display_data"
    }
   ],
   "source": [
    "cm = confusion_matrix(y_pred=y_pred_class, y_true=y_test)\n",
    "plot_confusion_matrix(cm           = cm, \n",
    "                      normalize    = False,\n",
    "                      target_names = [\"class 1\", \"class 2\", \"class 3\", \"class 4\", \"class 5\", \n",
    "                                                        \"class 6\",\"class 7\",\"class 8\",\"class 9\",\"class 10\"],\n",
    "                      title        = \"Confusion Matrix\")"
   ]
  },
  {
   "cell_type": "markdown",
   "metadata": {},
   "source": [
    "# Bulding a Neural Network"
   ]
  },
  {
   "cell_type": "code",
   "execution_count": null,
   "metadata": {},
   "outputs": [],
   "source": [
    "import numpy as np"
   ]
  },
  {
   "cell_type": "code",
   "execution_count": 26,
   "metadata": {},
   "outputs": [
    {
     "name": "stderr",
     "output_type": "stream",
     "text": [
      "Using TensorFlow backend.\n"
     ]
    }
   ],
   "source": [
    "import keras \n",
    "from keras.models import Sequential, Model \n",
    "from keras import layers\n",
    "from keras.layers import Dense, Conv1D, MaxPooling1D, Flatten, Dropout, Input, Embedding\n",
    "from keras.layers.merge import Concatenate\n",
    "from sklearn.feature_extraction.text import TfidfVectorizer\n",
    "from wordcloud import WordCloud\n",
    "from keras.utils.np_utils import to_categorical \n",
    "from nltk.tokenize import RegexpTokenizer\n",
    "from sklearn.metrics import confusion_matrix\n",
    "from sklearn.metrics import classification_report\n",
    "from sklearn.metrics import precision_score, confusion_matrix, recall_score"
   ]
  },
  {
   "cell_type": "markdown",
   "metadata": {},
   "source": [
    "## Splitting the data into train, test and validation"
   ]
  },
  {
   "cell_type": "code",
   "execution_count": 27,
   "metadata": {},
   "outputs": [],
   "source": [
    "x_train, x_valid, y_train, y_valid = train_test_split(df['review'], df['rating'], test_size=0.2, random_state=42)\n",
    "x_test, x_valid, y_test, y_valid = train_test_split(x_valid, y_valid, test_size=0.5, random_state=42)"
   ]
  },
  {
   "cell_type": "markdown",
   "metadata": {},
   "source": [
    "## Preparing data for neural network"
   ]
  },
  {
   "cell_type": "code",
   "execution_count": 30,
   "metadata": {},
   "outputs": [],
   "source": [
    "from sklearn.feature_selection import SelectKBest\n",
    "from sklearn.feature_selection import f_classif\n",
    "vectorizer = TfidfVectorizer(ngram_range=(1,2))\n",
    "\n",
    "x_train_vectors = vectorizer.fit_transform(x_train)\n",
    "x_valid_vectors = vectorizer.transform(x_valid)\n",
    "x_test_vectors = vectorizer.transform(x_test)\n",
    "\n",
    "selector = SelectKBest(f_classif, k=min(1000, x_train_vectors.shape[1]))\n",
    "selector.fit(x_train_vectors, y_train)\n",
    "\n",
    "x_train_vectors = selector.transform(x_train_vectors).astype('float32')\n",
    "x_valid_vectors = selector.transform(x_valid_vectors).astype('float32')\n",
    "x_test_vectors = selector.transform(x_test_vectors).astype('float32')\n",
    "\n",
    "new_x_train = np.array(x_train_vectors)\n",
    "new_x_valid = np.array(x_train_vectors)"
   ]
  },
  {
   "cell_type": "code",
   "execution_count": 31,
   "metadata": {},
   "outputs": [],
   "source": [
    "y_train_one_hot = to_categorical(y_train)\n",
    "y_valid_one_hot = to_categorical(y_valid)"
   ]
  },
  {
   "cell_type": "markdown",
   "metadata": {},
   "source": [
    "## Building the neural network model"
   ]
  },
  {
   "cell_type": "code",
   "execution_count": 32,
   "metadata": {},
   "outputs": [
    {
     "name": "stdout",
     "output_type": "stream",
     "text": [
      "Model: \"sequential_1\"\n",
      "_________________________________________________________________\n",
      "Layer (type)                 Output Shape              Param #   \n",
      "=================================================================\n",
      "dense_1 (Dense)              (None, 1024)              1025024   \n",
      "_________________________________________________________________\n",
      "activation_1 (Activation)    (None, 1024)              0         \n",
      "_________________________________________________________________\n",
      "dense_2 (Dense)              (None, 512)               524800    \n",
      "_________________________________________________________________\n",
      "activation_2 (Activation)    (None, 512)               0         \n",
      "_________________________________________________________________\n",
      "dense_3 (Dense)              (None, 256)               131328    \n",
      "_________________________________________________________________\n",
      "dense_4 (Dense)              (None, 11)                2827      \n",
      "=================================================================\n",
      "Total params: 1,683,979\n",
      "Trainable params: 1,683,979\n",
      "Non-trainable params: 0\n",
      "_________________________________________________________________\n"
     ]
    }
   ],
   "source": [
    "model_mlp3 = keras.models.Sequential()\n",
    "\n",
    "model_mlp3.add(keras.layers.Dense(1024, input_shape=(1000,)))\n",
    "model_mlp3.add(keras.layers.Activation('relu'))\n",
    "\n",
    "model_mlp3.add(keras.layers.Dense(512))\n",
    "model_mlp3.add(keras.layers.Activation('relu'))\n",
    "\n",
    "model_mlp3.add(keras.layers.Dense(256, activation='relu'))\n",
    "model_mlp3.add(keras.layers.Dense(11, activation='sigmoid'))\n",
    "\n",
    "model_mlp3.compile(loss='categorical_crossentropy', optimizer='adam', metrics=['accuracy'])\n",
    "model_mlp3.summary()"
   ]
  },
  {
   "cell_type": "markdown",
   "metadata": {},
   "source": [
    "### Training the neural net using train set and validation set"
   ]
  },
  {
   "cell_type": "code",
   "execution_count": 33,
   "metadata": {},
   "outputs": [
    {
     "name": "stdout",
     "output_type": "stream",
     "text": [
      "Train on 126867 samples, validate on 15859 samples\n",
      "Epoch 1/25\n",
      "126867/126867 [==============================] - 97s 762us/step - loss: 1.6260 - accuracy: 0.4199 - val_loss: 1.5772 - val_accuracy: 0.4317\n",
      "Epoch 2/25\n",
      "126867/126867 [==============================] - 93s 731us/step - loss: 1.5064 - accuracy: 0.4535 - val_loss: 1.5094 - val_accuracy: 0.4548\n",
      "Epoch 3/25\n",
      "126867/126867 [==============================] - 91s 716us/step - loss: 1.3098 - accuracy: 0.5127 - val_loss: 1.4675 - val_accuracy: 0.4831\n",
      "Epoch 4/25\n",
      "126867/126867 [==============================] - 82s 643us/step - loss: 1.0118 - accuracy: 0.6233 - val_loss: 1.4981 - val_accuracy: 0.5230\n",
      "Epoch 5/25\n",
      "126867/126867 [==============================] - 86s 678us/step - loss: 0.7065 - accuracy: 0.7439 - val_loss: 1.6427 - val_accuracy: 0.5656\n",
      "Epoch 6/25\n",
      "126867/126867 [==============================] - 103s 810us/step - loss: 0.4803 - accuracy: 0.8302 - val_loss: 1.7961 - val_accuracy: 0.6031\n",
      "Epoch 7/25\n",
      "126867/126867 [==============================] - 92s 723us/step - loss: 0.3365 - accuracy: 0.8831 - val_loss: 1.9962 - val_accuracy: 0.6160\n",
      "Epoch 8/25\n",
      "126867/126867 [==============================] - 94s 743us/step - loss: 0.2445 - accuracy: 0.9152 - val_loss: 2.2721 - val_accuracy: 0.6274\n",
      "Epoch 9/25\n",
      "126867/126867 [==============================] - 92s 727us/step - loss: 0.1912 - accuracy: 0.9340 - val_loss: 2.3344 - val_accuracy: 0.6328\n",
      "Epoch 10/25\n",
      "126867/126867 [==============================] - 90s 707us/step - loss: 0.1584 - accuracy: 0.9453 - val_loss: 2.4798 - val_accuracy: 0.6323\n",
      "Epoch 11/25\n",
      "126867/126867 [==============================] - 91s 720us/step - loss: 0.1368 - accuracy: 0.9528 - val_loss: 2.5825 - val_accuracy: 0.6367\n",
      "Epoch 12/25\n",
      "126867/126867 [==============================] - 94s 739us/step - loss: 0.1206 - accuracy: 0.9588 - val_loss: 2.6619 - val_accuracy: 0.6383\n",
      "Epoch 13/25\n",
      "126867/126867 [==============================] - 95s 753us/step - loss: 0.1098 - accuracy: 0.9627 - val_loss: 2.7346 - val_accuracy: 0.6404\n",
      "Epoch 14/25\n",
      "126867/126867 [==============================] - 90s 708us/step - loss: 0.0996 - accuracy: 0.9662 - val_loss: 2.7773 - val_accuracy: 0.6446\n",
      "Epoch 15/25\n",
      "126867/126867 [==============================] - 91s 716us/step - loss: 0.0921 - accuracy: 0.9681 - val_loss: 2.7867 - val_accuracy: 0.6444\n",
      "Epoch 16/25\n",
      "126867/126867 [==============================] - 90s 712us/step - loss: 0.0833 - accuracy: 0.9713 - val_loss: 2.9195 - val_accuracy: 0.6516\n",
      "Epoch 17/25\n",
      "126867/126867 [==============================] - 92s 722us/step - loss: 0.0791 - accuracy: 0.9730 - val_loss: 2.9067 - val_accuracy: 0.6472\n",
      "Epoch 18/25\n",
      "126867/126867 [==============================] - 93s 730us/step - loss: 0.0736 - accuracy: 0.9749 - val_loss: 2.9226 - val_accuracy: 0.6485\n",
      "Epoch 19/25\n",
      "126867/126867 [==============================] - 94s 745us/step - loss: 0.0710 - accuracy: 0.9753 - val_loss: 2.9398 - val_accuracy: 0.6502\n",
      "Epoch 20/25\n",
      "126867/126867 [==============================] - 96s 755us/step - loss: 0.0677 - accuracy: 0.9767 - val_loss: 3.0187 - val_accuracy: 0.6535\n",
      "Epoch 21/25\n",
      "126867/126867 [==============================] - 95s 750us/step - loss: 0.0635 - accuracy: 0.9781 - val_loss: 3.0147 - val_accuracy: 0.6537\n",
      "Epoch 22/25\n",
      "126867/126867 [==============================] - 97s 764us/step - loss: 0.0576 - accuracy: 0.9801 - val_loss: 3.0617 - val_accuracy: 0.6530\n",
      "Epoch 23/25\n",
      "126867/126867 [==============================] - 95s 752us/step - loss: 0.0590 - accuracy: 0.9799 - val_loss: 3.0632 - val_accuracy: 0.6531\n",
      "Epoch 24/25\n",
      "126867/126867 [==============================] - 103s 816us/step - loss: 0.0558 - accuracy: 0.9809 - val_loss: 3.0555 - val_accuracy: 0.6587\n",
      "Epoch 25/25\n",
      "126867/126867 [==============================] - 106s 834us/step - loss: 0.0547 - accuracy: 0.9818 - val_loss: 3.1739 - val_accuracy: 0.6564\n"
     ]
    }
   ],
   "source": [
    "history3 = model_mlp3.fit(x_train_vectors, y_train_one_hot, epochs=25, batch_size=64, validation_data=(x_valid_vectors, y_valid_one_hot))"
   ]
  },
  {
   "cell_type": "markdown",
   "metadata": {},
   "source": [
    "### Ploting the accuracy and loss"
   ]
  },
  {
   "cell_type": "code",
   "execution_count": 34,
   "metadata": {},
   "outputs": [
    {
     "data": {
      "image/png": "[encoded data removed]",
      "text/plain": [
       "<Figure size 432x288 with 1 Axes>"
      ]
     },
     "metadata": {
      "needs_background": "light"
     },
     "output_type": "display_data"
    },
    {
     "data": {
      "image/png": "[encoded data removed]",
      "text/plain": [
       "<Figure size 432x288 with 1 Axes>"
      ]
     },
     "metadata": {
      "needs_background": "light"
     },
     "output_type": "display_data"
    }
   ],
   "source": [
    "plt.plot(history3.history['accuracy'])\n",
    "plt.plot(history3.history['val_accuracy'])\n",
    "plt.title('model accuracy')\n",
    "plt.ylabel('accuracy')\n",
    "plt.xlabel('epoch')\n",
    "plt.legend(['train', 'valid'], loc='upper left')\n",
    "plt.show()\n",
    "\n",
    "# summarize history for loss\n",
    "plt.plot(history3.history['loss'])\n",
    "plt.plot(history3.history['val_loss'])\n",
    "plt.title('model loss')\n",
    "plt.ylabel('loss')\n",
    "plt.xlabel('epoch')\n",
    "plt.legend(['train', 'valid'], loc='upper left')\n",
    "plt.show()"
   ]
  },
  {
   "cell_type": "markdown",
   "metadata": {},
   "source": [
    "### Displaying the evaluation metrics"
   ]
  },
  {
   "cell_type": "code",
   "execution_count": 35,
   "metadata": {},
   "outputs": [
    {
     "name": "stdout",
     "output_type": "stream",
     "text": [
      "              precision    recall  f1-score   support\n",
      "\n",
      "     class 1       0.68      0.80      0.73      2101\n",
      "     class 2       0.63      0.53      0.57       661\n",
      "     class 3       0.56      0.54      0.55       685\n",
      "     class 4       0.55      0.47      0.51       487\n",
      "     class 5       0.49      0.56      0.53       790\n",
      "     class 6       0.60      0.49      0.54       646\n",
      "     class 7       0.62      0.53      0.57       906\n",
      "     class 8       0.59      0.60      0.60      1866\n",
      "     class 9       0.66      0.57      0.61      2686\n",
      "    class 10       0.75      0.79      0.77      5030\n",
      "\n",
      "    accuracy                           0.66     15858\n",
      "   macro avg       0.61      0.59      0.60     15858\n",
      "weighted avg       0.66      0.66      0.66     15858\n",
      "\n"
     ]
    }
   ],
   "source": [
    "y_pred2_3 = model_mlp3.predict_classes(x_test_vectors)\n",
    "print(classification_report(y_test, y_pred2_3, target_names=[\"class 1\", \"class 2\", \"class 3\", \"class 4\", \"class 5\", \"class 6\",\"class 7\",\"class 8\",\"class 9\",\"class 10\"]))"
   ]
  },
  {
   "cell_type": "markdown",
   "metadata": {},
   "source": [
    "### Confusion Metrics"
   ]
  },
  {
   "cell_type": "code",
   "execution_count": 36,
   "metadata": {},
   "outputs": [
    {
     "data": {
      "image/png": "[encoded data removed]",
      "text/plain": [
       "<Figure size 720x720 with 2 Axes>"
      ]
     },
     "metadata": {
      "needs_background": "light"
     },
     "output_type": "display_data"
    }
   ],
   "source": [
    "cm2_3 = confusion_matrix(y_pred=y_pred2_3, y_true=y_test)\n",
    "\n",
    "plot_confusion_matrix(cm           = cm2_3, \n",
    "                      normalize    = False,\n",
    "                      target_names = [\"class 1\", \"class 2\", \"class 3\", \"class 4\", \"class 5\", \n",
    "                                                        \"class 6\",\"class 7\",\"class 8\",\"class 9\",\"class 10\"],\n",
    "                      title        = \"Confusion Matrix\")"
   ]
  },
  {
   "cell_type": "code",
   "execution_count": null,
   "metadata": {},
   "outputs": [],
   "source": []
  },
  {
   "cell_type": "code",
   "execution_count": null,
   "metadata": {},
   "outputs": [],
   "source": []
  },
  {
   "cell_type": "code",
   "execution_count": null,
   "metadata": {},
   "outputs": [],
   "source": []
  }
 ],
 "metadata": {
  "kernelspec": {
   "display_name": "Python 3",
   "language": "python",
   "name": "python3"
  },
  "language_info": {
   "codemirror_mode": {
    "name": "ipython",
    "version": 3
   },
   "file_extension": ".py",
   "mimetype": "text/x-python",
   "name": "python",
   "nbconvert_exporter": "python",
   "pygments_lexer": "ipython3",
   "version": "3.7.5"
  }
 },
 "nbformat": 4,
 "nbformat_minor": 2
}
